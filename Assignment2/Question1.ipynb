{
 "cells": [
  {
   "cell_type": "markdown",
   "metadata": {
    "collapsed": false
   },
   "source": [
    "# Question 1"
   ]
  },
  {
   "cell_type": "code",
   "execution_count": 6,
   "metadata": {
    "collapsed": false
   },
   "outputs": [],
   "source": [
    "import glob\n",
    "import csv\n",
    "import os\n",
    "wordList=[]\n",
    "\n",
    "#### - Process Function for processing each file\n",
    "\n",
    "def processFile(g):\n",
    "    with open(name,'r') as f:\n",
    "            for line in f:\n",
    "                for word in line.split():\n",
    "                    removeSpecialChars = word.translate ({ord(c): \"\" for c in \"!@#$%^&*()[]{};:,./<>?\\|`~-=_+\"})\n",
    "                    wordList.append(removeSpecialChars.lower())\n",
    "                    \n",
    "#### - Simple Lambda Function to convert list to set\n",
    "\n",
    "l=lambda x:set(x)\n",
    "\n",
    "#### - Using glob to iterate the files\n",
    "\n",
    "for name in glob.glob(\"austen-emma.txt*\"):\n",
    "    if \"austen-emma\" in name:\n",
    "        processFile(name)\n",
    "\n",
    "words_set=l(wordList)\n",
    "hash_set={}\n",
    "hash_set=dict(map(lambda x: [x, wordList.count(x)],words_set))\n",
    "sorted_by_value_hashSet = sorted(hash_set, key = lambda x: hash_set[x], reverse = True)\n",
    "\n",
    "rank = 1\n",
    "last_value = hash_set[sorted_by_value_hashSet[0]]\n",
    "ranked_dict = dict()\n",
    "for name in sorted_by_value_hashSet:\n",
    "    this_value = hash_set[name]\n",
    "    if this_value != last_value:\n",
    "        rank += 1\n",
    "    hash={name:hash_set[name]}\n",
    "    ranked_dict[str(hash)] = rank\n",
    "    last_value = this_value\n",
    "\n",
    "sorted_rank_hashSet=sorted(ranked_dict.items(), key=lambda x: x[1])\n",
    "dir=os.getcwd()\n",
    "with open(dir+\"/\"+'question1Output.csv', 'w',newline='') as csvfile:\n",
    "    fieldnames = ['Word', 'Rank','Frequency']\n",
    "    writer = csv.DictWriter(csvfile, fieldnames=fieldnames)\n",
    "    writer.writeheader()\n",
    "    count=0;\n",
    "    for key,value in sorted_rank_hashSet:\n",
    "        words=key.split(\":\")\n",
    "        word=words[0].translate ({ord(c): \"\" for c in \"!@#$%^&*()[]{};:,'./<>?\\|`~-=_+\"})\n",
    "        freq=words[1].translate ({ord(c): \"\" for c in \"!@#$%^&*()[]{};:,./<>?\\|`~-=_+\"})\n",
    "        writer.writerow({'Word': word, 'Rank': value,'Frequency': freq})\n"
   ]
  },
  {
   "cell_type": "code",
   "execution_count": 7,
   "metadata": {
    "collapsed": false
   },
   "outputs": [
    {
     "data": {
      "image/png": "[encoded data removed]",
      "text/plain": [
       "<matplotlib.figure.Figure at 0x232708fcda0>"
      ]
     },
     "metadata": {},
     "output_type": "display_data"
    }
   ],
   "source": [
    "# Plot Graph\n",
    "\n",
    "from csv import DictReader\n",
    "import matplotlib.pyplot as plt\n",
    "import math\n",
    "with open(\"question1Output.csv\") as file_read:\n",
    "    log_rank = [math.log(float(row[\"Rank\"])) for row in DictReader(file_read)]\n",
    "\n",
    "with open(\"question1Output.csv\") as file_read:\n",
    "    log_freq = [math.log(float(row[\"Frequency\"])) for row in DictReader(file_read)]\n",
    "    \n",
    "\n",
    "plt.plot(log_rank, log_freq)\n",
    "plt.xlabel('Log_Rank')\n",
    "plt.ylabel('Log_Frequency')\n",
    "plt.show()\n",
    "\n",
    "\n"
   ]
  },
  {
   "cell_type": "code",
   "execution_count": null,
   "metadata": {
    "collapsed": false
   },
   "outputs": [],
   "source": [
    "# Conclusion\n",
    "\n",
    "Decreasing frequency will more more rank value.\n",
    "\n",
    "        "
   ]
  },
  {
   "cell_type": "code",
   "execution_count": null,
   "metadata": {
    "collapsed": false
   },
   "outputs": [],
   "source": []
  },
  {
   "cell_type": "code",
   "execution_count": null,
   "metadata": {
    "collapsed": false
   },
   "outputs": [],
   "source": []
  },
  {
   "cell_type": "code",
   "execution_count": null,
   "metadata": {
    "collapsed": false
   },
   "outputs": [],
   "source": []
  }
 ],
 "metadata": {
  "anaconda-cloud": {},
  "kernelspec": {
   "display_name": "Python [conda root]",
   "language": "python",
   "name": "conda-root-py"
  },
  "language_info": {
   "codemirror_mode": {
    "name": "ipython",
    "version": 3
   },
   "file_extension": ".py",
   "mimetype": "text/x-python",
   "name": "python",
   "nbconvert_exporter": "python",
   "pygments_lexer": "ipython3",
   "version": "3.5.2"
  }
 },
 "nbformat": 4,
 "nbformat_minor": 1
}
