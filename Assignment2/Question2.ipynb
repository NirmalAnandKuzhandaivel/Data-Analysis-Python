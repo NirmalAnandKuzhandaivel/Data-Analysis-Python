{
 "cells": [
  {
   "cell_type": "markdown",
   "metadata": {
    "collapsed": false
   },
   "source": [
    "# Question 2 a) "
   ]
  },
  {
   "cell_type": "code",
   "execution_count": 3,
   "metadata": {
    "collapsed": true
   },
   "outputs": [],
   "source": [
    "import os\n",
    "import glob\n",
    "import json\n",
    "import shutil\n",
    "\n",
    "def createDirectory(directory):\n",
    "    if not os.path.exists(directory):\n",
    "            os.makedirs(directory)\n",
    "    \n",
    "\n",
    "directory=os.getcwd()+\"/\"+\"DataProcessed\"\n",
    "term_set=set()\n",
    "for name in glob.glob(\"E:/DataAnalysis4Python_Spring17/Assignment 2/Data/*.*\"):\n",
    "    with open(name, 'r') as f:\n",
    "        data = json.load(f)\n",
    "        term_directory=directory+\"/\"+data[\"term\"]\n",
    "        createDirectory(term_directory)\n",
    "        country_directory=term_directory+\"/\"+data[\"location\"][\"country\"]\n",
    "        createDirectory(country_directory)\n",
    "        city_directory=country_directory+\"/\"+data[\"location\"][\"city\"]\n",
    "        createDirectory(city_directory)\n",
    "        zipcode_directory=city_directory+\"/\"+\"By_zipcode\"\n",
    "        rating_directory=city_directory+\"/\"+\"By_Rating\"\n",
    "        createDirectory(zipcode_directory)\n",
    "        createDirectory(rating_directory)\n",
    "        rating=data[\"rating\"]\n",
    "        if(rating == \"\" or rating == \" \"):\n",
    "            rating=0.0\n",
    "        rate_directory=rating_directory+\"/\"+str(rating)\n",
    "        createDirectory(rate_directory)\n",
    "        shutil.copy(name,rate_directory)\n",
    "        zipcode=data[\"location\"][\"zip_code\"]\n",
    "        if(zipcode == \"\" or zipcode == \" \"):\n",
    "            rating=\"NoZip\"\n",
    "        zip_directory=zipcode_directory+\"/\"+str(zipcode)\n",
    "        createDirectory(zip_directory)\n",
    "        shutil.copy(name,zip_directory)\n",
    "\n",
    "  \n",
    "    "
   ]
  },
  {
   "cell_type": "markdown",
   "metadata": {},
   "source": [
    "# Question 2 b) "
   ]
  },
  {
   "cell_type": "code",
   "execution_count": 4,
   "metadata": {
    "collapsed": false
   },
   "outputs": [],
   "source": [
    "import json\n",
    "import glob\n",
    "import csv\n",
    "import os\n",
    "with open(os.getcwd()+\"/\"+'question2Output.csv', 'w',encoding='utf-8',errors = 'ignore',newline='') as csvfile:\n",
    "    fieldnames = ['Name of Restaurant', 'City','Country Code','Day of Week','Start Time Hour',\n",
    "                 'Start Time Minute','End Time Hour','End Time Minute']\n",
    "    writer = csv.DictWriter(csvfile, fieldnames=fieldnames)\n",
    "    writer.writeheader()\n",
    "    for name in glob.glob(\"E:/DataAnalysis4Python_Spring17/Assignment 2/Data/*.*\"):\n",
    "        with open(name, 'r') as f:\n",
    "            data = json.load(f)\n",
    "            if \"restaurants\" in data[\"term\"]:\n",
    "                if \"hours\" in data:\n",
    "                    list=data[\"hours\"][0][\"open\"]\n",
    "                    for item in list:\n",
    "                        hashItem={}\n",
    "                        hashItem=item\n",
    "#                         if \"\\u012a\" in hashItem[\"end\"]:\n",
    "#                             print(name)\n",
    "                        writer.writerow({'Name of Restaurant': data[\"name\"], 'City': data[\"location\"][\"city\"],\n",
    "                                         'Country Code': data[\"location\"][\"country\"],'Day of Week':hashItem[\"day\"],\n",
    "                                         'Start Time Hour':hashItem[\"start\"][0:2],'Start Time Minute':hashItem[\"start\"][2:4],\n",
    "                                          'End Time Hour':hashItem[\"end\"][0:2],'End Time Minute':hashItem[\"end\"][2:4] })\n",
    "               \n",
    "      "
   ]
  },
  {
   "cell_type": "code",
   "execution_count": 2,
   "metadata": {
    "collapsed": false
   },
   "outputs": [
    {
     "name": "stdout",
     "output_type": "stream",
     "text": [
      "E:\\Python-Data-Anaysis-Github\\kuzhandaivel_NirmalAnand_Spring2017\\Assignment2\n"
     ]
    }
   ],
   "source": [
    "import os\n",
    "print(os.getcwd())"
   ]
  },
  {
   "cell_type": "code",
   "execution_count": null,
   "metadata": {
    "collapsed": true
   },
   "outputs": [],
   "source": []
  },
  {
   "cell_type": "code",
   "execution_count": 105,
   "metadata": {
    "collapsed": false
   },
   "outputs": [
    {
     "name": "stdout",
     "output_type": "stream",
     "text": [
      "Not present\n"
     ]
    }
   ],
   "source": [
    "\n",
    "                "
   ]
  }
 ],
 "metadata": {
  "anaconda-cloud": {},
  "kernelspec": {
   "display_name": "Python [conda root]",
   "language": "python",
   "name": "conda-root-py"
  },
  "language_info": {
   "codemirror_mode": {
    "name": "ipython",
    "version": 3
   },
   "file_extension": ".py",
   "mimetype": "text/x-python",
   "name": "python",
   "nbconvert_exporter": "python",
   "pygments_lexer": "ipython3",
   "version": "3.5.2"
  }
 },
 "nbformat": 4,
 "nbformat_minor": 1
}
