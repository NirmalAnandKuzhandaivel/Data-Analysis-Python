{
 "cells": [
  {
   "cell_type": "code",
   "execution_count": 9,
   "metadata": {
    "collapsed": false
   },
   "outputs": [],
   "source": [
    "# Get the articles about federer\n",
    "\n",
    "import requests\n",
    "import json\n",
    "import os\n",
    "import time\n",
    "url = \"https://api.nytimes.com/svc/archive/v1/2016/1.json\"\n",
    "apikey=\"e44100642cbc4e9f9d15946b7441d206\"\n",
    "year=2016\n",
    "dir='E:/Python-Data-Anaysis-Github/kuzhandaivel_NirmalAnand_Spring2017/midterm/data/question2'\n",
    "archiveDirectory=dir+'/'+'Archive'\n",
    "\n",
    "#Create the Directory Structure\n",
    "\n",
    "if not os.path.exists(archiveDirectory):\n",
    "    os.makedirs(archiveDirectory)\n",
    "\n",
    "count=1\n",
    "for i in range(1,2):\n",
    "    articles=[]\n",
    "    articles=requests.get(url+'?year=+'+str(year)+'&month='+str(i)+'&api-key='+apikey).json()\n",
    "    for article in articles['response']['docs']:\n",
    "        with open(archiveDirectory+'\\\\'+'archive_data_month_'+str(count)+'.json', 'w') as outfile:\n",
    "            json.dump(article, outfile)\n",
    "            count=count+1\n",
    "        "
   ]
  },
  {
   "cell_type": "code",
   "execution_count": 65,
   "metadata": {
    "collapsed": false
   },
   "outputs": [
    {
     "name": "stdout",
     "output_type": "stream",
     "text": [
      "{'U.S.': {'Politics': 1}, 'Fashion & Style': {None: 1}, 'Business Day': {'DealBook': 1, 'International Business': 1}, 'Opinion': {None: 1}, 'NYT Now': {None: 1}, 'Crosswords & Games': {None: 1}, 'Technology': {'Personal Tech': 2}}\n",
      "Politics/1,\n",
      "U.S.\n",
      "1\n",
      "Fashion & Style/1,\n",
      "Fashion & Style\n",
      "1\n",
      "International Business/1,\n",
      "Business Day\n",
      "2\n",
      "Opinion/1,\n",
      "Opinion\n",
      "1\n",
      "NYT Now/1,\n",
      "NYT Now\n",
      "1\n",
      "Crosswords & Games/1,\n",
      "Crosswords & Games\n",
      "1\n",
      "Personal Tech/2,\n",
      "Technology\n",
      "2\n"
     ]
    }
   ],
   "source": [
    "import json\n",
    "import glob\n",
    "import os\n",
    "import csv\n",
    "count=0\n",
    "sectionNews={}\n",
    "subSectionNews={}\n",
    "for name in glob.glob('../data/question2/Archive/*_?.json'):\n",
    "    with open(name,'r') as f:\n",
    "        data=json.load(f)\n",
    "        sectionName=data['section_name']\n",
    "        sub_section_Name=data['subsection_name']\n",
    "        if sectionName not in sectionNews:\n",
    "            sectionNews.setdefault(sectionName,{})\n",
    "            subSectionHash=sectionNews[sectionName]\n",
    "            if sub_section_Name not in subSectionHash:\n",
    "                subSectionHash[sub_section_Name]=1\n",
    "            else:\n",
    "                subSectionHash[sub_section_Name]+=1\n",
    "            sectionNews[sectionName]=subSectionHash\n",
    "        else:\n",
    "            subSectionHash=sectionNews[sectionName]\n",
    "            if sub_section_Name not in subSectionHash:\n",
    "                subSectionHash[sub_section_Name]=1\n",
    "            else:\n",
    "                subSectionHash[sub_section_Name]+=1\n",
    "            sectionNews[sectionName]=subSectionHash\n",
    "print(sectionNews)     \n",
    "\n",
    "with open('nirmal.csv', 'w',newline='') as csvfile:\n",
    "    fieldnames = ['Section', 'Count','Subclassification']\n",
    "    writer = csv.DictWriter(csvfile, fieldnames=fieldnames,extrasaction='ignore')\n",
    "    writer.writeheader()\n",
    "    for news in sectionNews:\n",
    "        subclassfication=\"\"\n",
    "        totalCount=0\n",
    "        subsection=sectionNews[news]\n",
    "        for sub in subsection:\n",
    "            if sub is None:\n",
    "                subTemp=str(news)\n",
    "                subclassfication=subTemp+\"/\"+str(subsection[sub])+\",\"\n",
    "            else:\n",
    "                 subclassfication=sub+\"/\"+str(subsection[sub])+\",\"\n",
    "            totalCount+=subsection[sub]\n",
    "        writer.writerow({'Section': news,'Count':totalCount,'Subclassification':subclassfication})\n",
    "\n",
    "            \n",
    "\n",
    "        "
   ]
  },
  {
   "cell_type": "code",
   "execution_count": 27,
   "metadata": {
    "collapsed": false
   },
   "outputs": [
    {
     "name": "stdout",
     "output_type": "stream",
     "text": [
      "{'U.S.': 1, 'Fashion & Style': 1, 'Business Day': 2, 'Opinion': 1, 'NYT Now': 1, 'Crosswords & Games': 1, 'Technology': 2}\n"
     ]
    }
   ],
   "source": [
    "import json\n",
    "import glob\n",
    "import os\n",
    "count=0\n",
    "sectionNews={}\n",
    "for name in glob.glob('../data/question2/Archive/*_?.json'):\n",
    "    with open(name,'r') as f:\n",
    "        data=json.load(f)\n",
    "        sectionName=data['section_name']\n",
    "        if sectionName not in sectionNews:\n",
    "            sectionNews[sectionName]=1\n",
    "        else:\n",
    "            sectionNews[sectionName]+=1\n",
    "print(sectionNews)\n",
    "        "
   ]
  },
  {
   "cell_type": "code",
   "execution_count": 40,
   "metadata": {
    "collapsed": false
   },
   "outputs": [
    {
     "ename": "TypeError",
     "evalue": "unhashable type: 'slice'",
     "output_type": "error",
     "traceback": [
      "\u001b[0;31m---------------------------------------------------------------------------\u001b[0m",
      "\u001b[0;31mTypeError\u001b[0m                                 Traceback (most recent call last)",
      "\u001b[0;32m<ipython-input-40-221b10662333>\u001b[0m in \u001b[0;36m<module>\u001b[0;34m()\u001b[0m\n\u001b[1;32m      1\u001b[0m \u001b[0mhash1\u001b[0m\u001b[1;33m=\u001b[0m\u001b[1;33m{\u001b[0m\u001b[1;34m'test1'\u001b[0m\u001b[1;33m:\u001b[0m\u001b[1;36m5\u001b[0m\u001b[1;33m,\u001b[0m\u001b[1;34m'test2'\u001b[0m\u001b[1;33m:\u001b[0m\u001b[1;36m6\u001b[0m\u001b[1;33m,\u001b[0m\u001b[1;34m'test3'\u001b[0m\u001b[1;33m:\u001b[0m\u001b[1;36m7\u001b[0m\u001b[1;33m,\u001b[0m\u001b[1;34m'test4'\u001b[0m\u001b[1;33m:\u001b[0m\u001b[1;36m8\u001b[0m\u001b[1;33m}\u001b[0m\u001b[1;33m\u001b[0m\u001b[0m\n\u001b[1;32m      2\u001b[0m \u001b[0mhash2\u001b[0m\u001b[1;33m=\u001b[0m\u001b[1;33m{\u001b[0m\u001b[1;34m'Nirmal'\u001b[0m\u001b[1;33m:\u001b[0m\u001b[0mhash1\u001b[0m\u001b[1;33m}\u001b[0m\u001b[1;33m\u001b[0m\u001b[0m\n\u001b[0;32m----> 3\u001b[0;31m \u001b[0mfirst2pairs\u001b[0m \u001b[1;33m=\u001b[0m \u001b[1;33m{\u001b[0m\u001b[0mk\u001b[0m\u001b[1;33m:\u001b[0m \u001b[0mhash1\u001b[0m\u001b[1;33m[\u001b[0m\u001b[0mk\u001b[0m\u001b[1;33m]\u001b[0m \u001b[1;32mfor\u001b[0m \u001b[0mk\u001b[0m \u001b[1;32min\u001b[0m \u001b[0mhash1\u001b[0m\u001b[1;33m.\u001b[0m\u001b[0mkeys\u001b[0m\u001b[1;33m(\u001b[0m\u001b[1;33m)\u001b[0m\u001b[1;33m}\u001b[0m\u001b[1;33m[\u001b[0m\u001b[1;33m:\u001b[0m\u001b[1;36m2\u001b[0m\u001b[1;33m]\u001b[0m\u001b[1;33m\u001b[0m\u001b[0m\n\u001b[0m\u001b[1;32m      4\u001b[0m \u001b[0mprint\u001b[0m\u001b[1;33m(\u001b[0m\u001b[0mfirst2pairs\u001b[0m\u001b[1;33m)\u001b[0m\u001b[1;33m\u001b[0m\u001b[0m\n\u001b[1;32m      5\u001b[0m \u001b[0mhash3\u001b[0m\u001b[1;33m=\u001b[0m\u001b[0mhash2\u001b[0m\u001b[1;33m[\u001b[0m\u001b[1;34m'Nirmal'\u001b[0m\u001b[1;33m]\u001b[0m\u001b[1;33m\u001b[0m\u001b[0m\n",
      "\u001b[0;31mTypeError\u001b[0m: unhashable type: 'slice'"
     ]
    }
   ],
   "source": [
    "hash1={'test1':5,'test2':6,'test3':7,'test4':8}\n",
    "hash2={'Nirmal':hash1}\n",
    "first2pairs = {k: hash1[k] for k in hash1.keys()}[:2]\n",
    "print(first2pairs)\n",
    "hash3=hash2['Nirmal']\n",
    "print(hash3)\n",
    "hash4=sorted(hash3.items(), key=lambda x: x[1],reverse=True)[:3]\n",
    "print(hash4)\n",
    "finalhash={}\n",
    "for key1 in hash2:\n",
    "    for key2,value2 in hash4:\n",
    "        if key1 not in finalhash:\n",
    "            finalhash.setdefault(key1,[])\n",
    "            finalhash[key1].append(key2)\n",
    "        else:\n",
    "            finalhash[key1].append(key2)\n",
    "print(hash1[0:1])\n",
    "    "
   ]
  },
  {
   "cell_type": "code",
   "execution_count": 57,
   "metadata": {
    "collapsed": false
   },
   "outputs": [
    {
     "name": "stdout",
     "output_type": "stream",
     "text": [
      "Fashion & style\n"
     ]
    }
   ],
   "source": [
    "nirmal='Fashion & style'\n",
    "print(nirmal)"
   ]
  }
 ],
 "metadata": {
  "anaconda-cloud": {},
  "kernelspec": {
   "display_name": "Python [conda root]",
   "language": "python",
   "name": "conda-root-py"
  },
  "language_info": {
   "codemirror_mode": {
    "name": "ipython",
    "version": 3
   },
   "file_extension": ".py",
   "mimetype": "text/x-python",
   "name": "python",
   "nbconvert_exporter": "python",
   "pygments_lexer": "ipython3",
   "version": "3.5.2"
  }
 },
 "nbformat": 4,
 "nbformat_minor": 1
}
