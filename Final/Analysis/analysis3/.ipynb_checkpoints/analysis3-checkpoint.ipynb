{
 "cells": [
  {
   "cell_type": "markdown",
   "metadata": {},
   "source": [
    "# Analysis 3"
   ]
  },
  {
   "cell_type": "code",
   "execution_count": null,
   "metadata": {
    "collapsed": false
   },
   "outputs": [],
   "source": [
    "# Merge the Green Taxi Files for the Month Jan - June\n",
    "import glob\n",
    "import pandas as pd\n",
    "from pandas import DataFrame\n",
    "frame = pd.DataFrame()\n",
    "list=[]\n",
    "for files in glob.iglob(\"../../Data/GreenTaxi/*.csv\"):\n",
    "    df = pd.read_csv(files,sep=',')\n",
    "    list.append(df)\n",
    "frame = pd.concat(list)"
   ]
  },
  {
   "cell_type": "code",
   "execution_count": 121,
   "metadata": {
    "collapsed": false
   },
   "outputs": [],
   "source": [
    "#Pick up Random Sample Records\n",
    "df = frame.sample(n=100000)\n",
    "df.to_csv(\"outputs/randomsample.csv\",sep=\",\")"
   ]
  },
  {
   "cell_type": "code",
   "execution_count": 122,
   "metadata": {
    "collapsed": false
   },
   "outputs": [],
   "source": [
    "#Calculate Tip Percent for Every record\n",
    "outputFile=\"outputs/randomsample.csv\"\n",
    "tipPercentage=pd.read_csv(files,sep=',')[['Tip_amount','Total_amount']]\n",
    "tipPercentage['tipPercent']=round((tipPercentage['Tip_amount']/tipPercentage['Total_amount'])*100)"
   ]
  },
  {
   "cell_type": "code",
   "execution_count": 123,
   "metadata": {
    "collapsed": false
   },
   "outputs": [],
   "source": [
    "#Divide the Tip into Categories and Seperate into Bins\n",
    "import numpy as np\n",
    "tipBins = [-5,0.1,5,10,15,20,25,30]\n",
    "tipData=DataFrame(tipPercentage)\n",
    "tip_data_names = [\"No Tip\", '1 to 5','5 to 10','10 to 15','15 to 20','20 to 25','25 to 30']\n",
    "tipData['ranges'] = pd.cut(tipData['tipPercent'], tipBins, labels=tip_data_names)\n",
    "td=tipData.groupby(['ranges'])['ranges'].agg({'count'}).reset_index()\n",
    "td['perc']= (td['count']*100/td['count'].sum()).round()"
   ]
  },
  {
   "cell_type": "code",
   "execution_count": 124,
   "metadata": {
    "collapsed": false
   },
   "outputs": [],
   "source": [
    "#Convert String date Column to date time\n",
    "df['pickup_date'] = pd.to_datetime(df['pickup_date'], errors='coerce')"
   ]
  },
  {
   "cell_type": "code",
   "execution_count": 125,
   "metadata": {
    "collapsed": false
   },
   "outputs": [],
   "source": [
    "#Get the day of week\n",
    "df['weekday'] = df['pickup_date'].dt.dayofweek"
   ]
  },
  {
   "cell_type": "code",
   "execution_count": 126,
   "metadata": {
    "collapsed": false
   },
   "outputs": [],
   "source": [
    "#Generate new dataFrame with required columns\n",
    "df1=DataFrame(df,columns=['pickup_time','Tip_amount','weekday'])"
   ]
  },
  {
   "cell_type": "code",
   "execution_count": null,
   "metadata": {
    "collapsed": false
   },
   "outputs": [],
   "source": [
    "#Generate Hour\n",
    "df1['time_hour'] = pd.to_datetime(df1['pickup_time']).dt.hour\n",
    "time_weekday_tip=DataFrame(df1,columns=['Tip_amount','time_hour','weekday'])"
   ]
  },
  {
   "cell_type": "code",
   "execution_count": 129,
   "metadata": {
    "collapsed": false
   },
   "outputs": [],
   "source": [
    "#Form a Pivot Table\n",
    "twt=DataFrame(time_weekday_tip.groupby([\"weekday\", \"time_hour\"])[\"Tip_amount\"].mean())\n",
    "twt = twt.reset_index()\n",
    "twt.columns = twt.columns.str.strip()\n",
    "output=DataFrame(twt.pivot(index='time_hour', columns='weekday', values='Tip_amount'))\n",
    "output.to_csv(\"outputs/out.csv\")\n"
   ]
  },
  {
   "cell_type": "code",
   "execution_count": 131,
   "metadata": {
    "collapsed": false
   },
   "outputs": [
    {
     "data": {
      "text/html": [
       "<div>\n",
       "<table border=\"1\" class=\"dataframe\">\n",
       "  <thead>\n",
       "    <tr style=\"text-align: right;\">\n",
       "      <th></th>\n",
       "      <th>ranges</th>\n",
       "      <th>count</th>\n",
       "      <th>perc</th>\n",
       "    </tr>\n",
       "  </thead>\n",
       "  <tbody>\n",
       "    <tr>\n",
       "      <th>0</th>\n",
       "      <td>No Tip</td>\n",
       "      <td>602664</td>\n",
       "      <td>58.0</td>\n",
       "    </tr>\n",
       "    <tr>\n",
       "      <th>1</th>\n",
       "      <td>1 to 5</td>\n",
       "      <td>8284</td>\n",
       "      <td>1.0</td>\n",
       "    </tr>\n",
       "    <tr>\n",
       "      <th>2</th>\n",
       "      <td>5 to 10</td>\n",
       "      <td>42135</td>\n",
       "      <td>4.0</td>\n",
       "    </tr>\n",
       "    <tr>\n",
       "      <th>3</th>\n",
       "      <td>10 to 15</td>\n",
       "      <td>56450</td>\n",
       "      <td>5.0</td>\n",
       "    </tr>\n",
       "    <tr>\n",
       "      <th>4</th>\n",
       "      <td>15 to 20</td>\n",
       "      <td>295846</td>\n",
       "      <td>28.0</td>\n",
       "    </tr>\n",
       "    <tr>\n",
       "      <th>5</th>\n",
       "      <td>20 to 25</td>\n",
       "      <td>32648</td>\n",
       "      <td>3.0</td>\n",
       "    </tr>\n",
       "    <tr>\n",
       "      <th>6</th>\n",
       "      <td>25 to 30</td>\n",
       "      <td>2901</td>\n",
       "      <td>0.0</td>\n",
       "    </tr>\n",
       "  </tbody>\n",
       "</table>\n",
       "</div>"
      ],
      "text/plain": [
       "     ranges   count  perc\n",
       "0    No Tip  602664  58.0\n",
       "1    1 to 5    8284   1.0\n",
       "2   5 to 10   42135   4.0\n",
       "3  10 to 15   56450   5.0\n",
       "4  15 to 20  295846  28.0\n",
       "5  20 to 25   32648   3.0\n",
       "6  25 to 30    2901   0.0"
      ]
     },
     "execution_count": 131,
     "metadata": {},
     "output_type": "execute_result"
    }
   ],
   "source": [
    "## Graph Analysis for The Tip Range\n",
    "\n"
   ]
  },
  {
   "cell_type": "code",
   "execution_count": 1,
   "metadata": {
    "collapsed": false
   },
   "outputs": [
    {
     "data": {
      "image/png": "[encoded data removed]",
      "text/plain": [
       "<matplotlib.figure.Figure at 0x11131b2e8>"
      ]
     },
     "metadata": {},
     "output_type": "display_data"
    }
   ],
   "source": [
    "## Graph Analysis for Tip Percentage on a weekday basis\n",
    "\n",
    "import pandas as pd\n",
    "import matplotlib.pyplot as plt\n",
    "import seaborn as sns\n",
    "%matplotlib inline\n",
    "# import the data directly into a pandas dataframe\n",
    "nba = pd.read_csv(\"outputs/out.csv\", index_col='time_hour')\n",
    "# remove index title\n",
    "nba.index.name = \"\"\n",
    "# normalize data columns\n",
    "nba_norm = (nba - nba.mean()) / (nba.max() - nba.min())\n",
    "# relabel columns\n",
    "labels = ['Monday','Tuesday','Wednesday','Thursday','Friday','Saturday','Sunday']\n",
    "nba_norm.columns = labels\n",
    "# set appropriate font and dpi\n",
    "sns.set(font_scale=1.2)\n",
    "sns.set_style({\"savefig.dpi\": 75})\n",
    "sns.set\n",
    "# plot it out\n",
    "ax = sns.heatmap(nba_norm, cmap=plt.cm.Blues, linewidths=1)\n",
    "# set the x-axis labels on the top\n",
    "ax.xaxis.tick_top()\n",
    "ax.set(xlabel='Weekday', ylabel='Hour of Day')\n",
    "# rotate the x-axis labels\n",
    "plt.xticks(rotation=90)\n",
    "# get figure (usually obtained via \"fig,ax=plt.subplots()\" with matplotlib)\n",
    "fig = ax.get_figure()\n",
    "# specify dimensions and save\n",
    "fig.set_size_inches(10, 15)\n",
    "fig.savefig(\"nba.png\")"
   ]
  }
 ],
 "metadata": {
  "kernelspec": {
   "display_name": "Python 3",
   "language": "python",
   "name": "python3"
  },
  "language_info": {
   "codemirror_mode": {
    "name": "ipython",
    "version": 3
   },
   "file_extension": ".py",
   "mimetype": "text/x-python",
   "name": "python",
   "nbconvert_exporter": "python",
   "pygments_lexer": "ipython3",
   "version": "3.6.0"
  }
 },
 "nbformat": 4,
 "nbformat_minor": 2
}
