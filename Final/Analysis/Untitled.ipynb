{
 "cells": [
  {
   "cell_type": "markdown",
   "metadata": {},
   "source": [
    "# INFO 7374 - NYC TAXI ANALYSIS WITH WEATHER AND UBER\n",
    "\n",
    "## Introduction\n",
    "\n",
    "#### The New York City Taxi  has released a staggeringly detailed historical dataset covering over 1.1 billionindividual taxi trips in the city from January 2009 through June 2015.As the Data is huge, I have taken data from Jan 2016 to June 2016 for my analysis.Taken as a part of data How much are the earnings by each Taxi Companies , What affects the speed of the Taxi , How weather is related to the rides are the co-relations that you can infer from it .\n",
    "\n",
    "## Prerequisites\n",
    "\n",
    "#### For this analysis, I have used following libraries. You can also get them by using the following simple command:\n",
    "\n",
    "```\n",
    "pip install <packagename>\n",
    "\n",
    "```\n",
    "\n",
    "### \n",
    "\n",
    "\n",
    "   \n",
    "\n",
    "    \n",
    "## Data Collection\n",
    "   \n",
    "\n",
    "\n",
    "\n"
   ]
  }
 ],
 "metadata": {
  "kernelspec": {
   "display_name": "Python 3",
   "language": "python",
   "name": "python3"
  },
  "language_info": {
   "codemirror_mode": {
    "name": "ipython",
    "version": 3
   },
   "file_extension": ".py",
   "mimetype": "text/x-python",
   "name": "python",
   "nbconvert_exporter": "python",
   "pygments_lexer": "ipython3",
   "version": "3.6.0"
  }
 },
 "nbformat": 4,
 "nbformat_minor": 2
}
