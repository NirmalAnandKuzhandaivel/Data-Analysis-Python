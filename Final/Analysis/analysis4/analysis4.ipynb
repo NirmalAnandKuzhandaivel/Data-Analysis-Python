{
 "cells": [
  {
   "cell_type": "markdown",
   "metadata": {},
   "source": [
    "# Analysis 4 - Green Taxi Rides Comparison with Weather Changes"
   ]
  },
  {
   "cell_type": "code",
   "execution_count": 1,
   "metadata": {
    "collapsed": false
   },
   "outputs": [],
   "source": [
    "# Step 1 - Merge the CSV Files to take the Trip Data from all the Files\n",
    "import glob\n",
    "import pandas as pd\n",
    "from pandas import DataFrame\n",
    "frame = pd.DataFrame()\n",
    "list=[]\n",
    "for files in glob.iglob(\"../../Data/RawGreen/*.csv\"):\n",
    "    df = pd.read_csv(files,sep=',')[['lpep_pickup_datetime']]\n",
    "    list.append(df)\n",
    "frame = pd.concat(list)\n"
   ]
  },
  {
   "cell_type": "code",
   "execution_count": 3,
   "metadata": {
    "collapsed": false
   },
   "outputs": [],
   "source": [
    "frame['pickup_date']=pd.to_datetime(frame['lpep_pickup_datetime']).dt.date"
   ]
  },
  {
   "cell_type": "code",
   "execution_count": 5,
   "metadata": {
    "collapsed": false
   },
   "outputs": [],
   "source": [
    "# Step 2 - Count The No of Rides for every Date\n",
    "ridesCount=frame.groupby(['pickup_date'])['pickup_date'].agg({'count','count'}).reset_index()"
   ]
  },
  {
   "cell_type": "code",
   "execution_count": 9,
   "metadata": {
    "collapsed": false
   },
   "outputs": [],
   "source": [
    "# Step 3 - Read the Weather Data \n",
    "weather=pd.read_csv(\"../../Data/Weather/weather.csv\",sep=',')[['CLDATE','PRCP','SNWD','SNOW']]\n",
    "weather['CLDATE']=pd.to_datetime(weather['CLDATE']).dt.date"
   ]
  },
  {
   "cell_type": "code",
   "execution_count": 11,
   "metadata": {
    "collapsed": true
   },
   "outputs": [],
   "source": [
    "#Step 4 - Join the Weather Data with the Ride Counts\n",
    "joinResult=pd.merge(ridesCount, weather, how = 'right', left_on = 'pickup_date', right_on = 'CLDATE').fillna(0)\n",
    "weather_pick=DataFrame(joinResult,columns=['CLDATE','count','PRCP','SNWD','SNOW'])\n",
    "weather_pick.to_csv(\"output/weather_rides.csv\",sep=\",\")"
   ]
  },
  {
   "cell_type": "code",
   "execution_count": 13,
   "metadata": {
    "collapsed": false
   },
   "outputs": [
    {
     "data": {
      "text/html": [
       "<div>\n",
       "<table border=\"1\" class=\"dataframe\">\n",
       "  <thead>\n",
       "    <tr style=\"text-align: right;\">\n",
       "      <th></th>\n",
       "      <th>conditions</th>\n",
       "      <th>count</th>\n",
       "    </tr>\n",
       "  </thead>\n",
       "  <tbody>\n",
       "    <tr>\n",
       "      <th>0</th>\n",
       "      <td>0 - 1</td>\n",
       "      <td>2683594</td>\n",
       "    </tr>\n",
       "    <tr>\n",
       "      <th>1</th>\n",
       "      <td>1 - 2</td>\n",
       "      <td>179273</td>\n",
       "    </tr>\n",
       "    <tr>\n",
       "      <th>2</th>\n",
       "      <td>2 - 3</td>\n",
       "      <td>11031</td>\n",
       "    </tr>\n",
       "  </tbody>\n",
       "</table>\n",
       "</div>"
      ],
      "text/plain": [
       "  conditions    count\n",
       "0      0 - 1  2683594\n",
       "1      1 - 2   179273\n",
       "2      2 - 3    11031"
      ]
     },
     "execution_count": 13,
     "metadata": {},
     "output_type": "execute_result"
    }
   ],
   "source": [
    "#Step 6 - Using Numpy Bins to Segregate precitation data\n",
    "import numpy as np\n",
    "prcpbins = [0.0, 1.0, 2.0, 3.0]\n",
    "prcpData=DataFrame(weather_pick)\n",
    "prcp_group_names = ['0 - 1', '1 - 2', '2 - 3']\n",
    "prcpData['conditions'] = pd.cut(prcpData['PRCP'], prcpbins, labels=prcp_group_names)\n",
    "sp=prcpData[['count','conditions']].groupby(['conditions']).sum()\n",
    "sp.reset_index()"
   ]
  },
  {
   "cell_type": "code",
   "execution_count": 17,
   "metadata": {
    "collapsed": false
   },
   "outputs": [
    {
     "data": {
      "text/html": [
       "<div>\n",
       "<table border=\"1\" class=\"dataframe\">\n",
       "  <thead>\n",
       "    <tr style=\"text-align: right;\">\n",
       "      <th></th>\n",
       "      <th>conditions</th>\n",
       "      <th>count</th>\n",
       "    </tr>\n",
       "  </thead>\n",
       "  <tbody>\n",
       "    <tr>\n",
       "      <th>0</th>\n",
       "      <td>0 - 5</td>\n",
       "      <td>150265.0</td>\n",
       "    </tr>\n",
       "    <tr>\n",
       "      <th>1</th>\n",
       "      <td>5 - 10</td>\n",
       "      <td>227127.0</td>\n",
       "    </tr>\n",
       "    <tr>\n",
       "      <th>2</th>\n",
       "      <td>10 - 15</td>\n",
       "      <td>0.0</td>\n",
       "    </tr>\n",
       "    <tr>\n",
       "      <th>3</th>\n",
       "      <td>15 - 20</td>\n",
       "      <td>87265.0</td>\n",
       "    </tr>\n",
       "    <tr>\n",
       "      <th>4</th>\n",
       "      <td>20 - 25</td>\n",
       "      <td>22010.0</td>\n",
       "    </tr>\n",
       "  </tbody>\n",
       "</table>\n",
       "</div>"
      ],
      "text/plain": [
       "  conditions     count\n",
       "0      0 - 5  150265.0\n",
       "1     5 - 10  227127.0\n",
       "2    10 - 15       0.0\n",
       "3    15 - 20   87265.0\n",
       "4    20 - 25   22010.0"
      ]
     },
     "execution_count": 17,
     "metadata": {},
     "output_type": "execute_result"
    }
   ],
   "source": [
    "#Step 7 - Using Numpy Bins to Segregate Snow data\n",
    "import numpy as np\n",
    "snowbins = [0.0,5.0,10.0,15.0,20.0,25.0]\n",
    "snowData=DataFrame(weather_pick)\n",
    "snow_group_names = ['0 - 5', '5 - 10', '10 - 15','15 - 20', '20 - 25']\n",
    "snowData['conditions'] = pd.cut(snowData['SNWD'], snowbins, labels=snow_group_names)\n",
    "sd=snowData[['count','conditions']].groupby(['conditions']).sum().fillna(0)\n",
    "sd.reset_index()"
   ]
  },
  {
   "cell_type": "code",
   "execution_count": null,
   "metadata": {
    "collapsed": true
   },
   "outputs": [],
   "source": []
  }
 ],
 "metadata": {
  "kernelspec": {
   "display_name": "Python 3",
   "language": "python",
   "name": "python3"
  },
  "language_info": {
   "codemirror_mode": {
    "name": "ipython",
    "version": 3
   },
   "file_extension": ".py",
   "mimetype": "text/x-python",
   "name": "python",
   "nbconvert_exporter": "python",
   "pygments_lexer": "ipython3",
   "version": "3.6.0"
  }
 },
 "nbformat": 4,
 "nbformat_minor": 2
}
